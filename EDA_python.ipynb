{
 "cells": [
  {
   "cell_type": "markdown",
   "metadata": {},
   "source": [
    "# About the Dataset"
   ]
  },
  {
   "cell_type": "markdown",
   "metadata": {},
   "source": [
    "https://www.kaggle.com/nypl/whats-on-the-menu"
   ]
  },
  {
   "cell_type": "raw",
   "metadata": {},
   "source": [
    "What's On The Menu?\n",
    "Dataset on historical menus, dishes, and dish prices\n",
    "\n",
    "The New York Public Library is digitizing and transcribing its collection of historical menus. The collection includes about 45,000 menus from the 1840s to the present, and the goal of the digitization project is to transcribe each page of each menu, creating an enormous database of dishes, prices, locations, and so on. As of early November, 2016, the transcribed database contains 1,332,279 dishes from 17,545 menus."
   ]
  },
  {
   "cell_type": "raw",
   "metadata": {},
   "source": [
    "The Data\n",
    "Menu\n",
    "The core element of the dataset. Each Menu has a unique identifier and associated data, including data on the venue and/or event that the menu was created for; the location that the menu was used; the currency in use on the menu; and various other fields.\n",
    "Each menu is associated with some number of MenuPage values.\n",
    "\n",
    "MenuPage\n",
    "Each MenuPage refers to the Menu it comes from, via the menu_id variable (corresponding to Menu:id). Each MenuPage also has a unique identifier of its own. Associated MenuPage data includes the page number of this MenuPage, an identifier for the scanned image of the page, and the dimensions of the page.\n",
    "Each MenuPage is associated with some number of MenuItem values.\n",
    "\n",
    "MenuItem\n",
    "Each MenuItem refers to both the MenuPage it is found on -- via the menu_page_id variable -- and the Dish that it represents -- via the dish_id variable. Each MenuItem also has a unique identifier of its own. Other associated data includes the price of the item and the dates when the item was created or modified in the database.\n",
    "\n",
    "Dish\n",
    "A Dish is a broad category that covers some number of MenuItems. Each dish has a unique id, to which it is referred by its affiliated MenuItems. Each dish also has a name, a description, a number of menus it appears on, and both date and price ranges."
   ]
  },
  {
   "cell_type": "raw",
   "metadata": {},
   "source": [
    "Inspiration\n",
    "\n",
    "What are some things we can look at with this dataset?\n",
    "\n",
    "How has the median price of restaurant dishes changed over time? Are there particular types of dishes (alcoholic beverages, seafood, breakfast food) whose price changes have been greater than or less than the average change over time?\n",
    "Can we predict anything about a dish's price based on its name or description? \n",
    "-- There's been some work on how the words used in advertisements for potato chips are reflective of their price; is that also true of the words used in the name of the food? \n",
    "-- Are, for example, French or Italian words more likely to predict a more expensive dish?\n",
    "Acknowledgments\n",
    "\n",
    "This dataset was downloaded from the New York Public Library's What's on the menu? page. The What's on the menu? data files are updated twice monthly, so expect this dataset to go through multiple versions."
   ]
  },
  {
   "cell_type": "code",
   "execution_count": 210,
   "metadata": {
    "collapsed": false
   },
   "outputs": [],
   "source": [
    "import pandas as pd\n",
    "import numpy as np\n",
    "import matplotlib\n",
    "import matplotlib.pyplot as plt\n",
    "import seaborn as sns\n",
    "\n",
    "%matplotlib inline\n",
    "matplotlib.rcParams['figure.figsize'] = (20.0, 10.0)\n",
    "\n",
    "pd.set_option('display.max_rows', 500)\n",
    "pd.set_option('display.max_columns', 500)\n",
    "pd.set_option('display.width', 1000)"
   ]
  },
  {
   "cell_type": "code",
   "execution_count": 100,
   "metadata": {
    "collapsed": false
   },
   "outputs": [],
   "source": [
    "menu_df = pd.read_csv(\"Menu.csv\")\n",
    "\n",
    "mpage_df = pd.read_csv(\"MenuPage.csv\")\n",
    "\n",
    "mitem_df = pd.read_csv(\"MenuItem.csv\")\n",
    "\n",
    "dish_df = pd.read_csv('Dish.csv')\n"
   ]
  },
  {
   "cell_type": "code",
   "execution_count": 166,
   "metadata": {
    "collapsed": false
   },
   "outputs": [
    {
     "data": {
      "text/html": [
       "<div>\n",
       "<table border=\"1\" class=\"dataframe\">\n",
       "  <thead>\n",
       "    <tr style=\"text-align: right;\">\n",
       "      <th></th>\n",
       "      <th>id</th>\n",
       "      <th>name</th>\n",
       "      <th>sponsor</th>\n",
       "      <th>event</th>\n",
       "      <th>venue</th>\n",
       "      <th>place</th>\n",
       "      <th>physical_description</th>\n",
       "      <th>occasion</th>\n",
       "      <th>notes</th>\n",
       "      <th>call_number</th>\n",
       "      <th>keywords</th>\n",
       "      <th>language</th>\n",
       "      <th>date</th>\n",
       "      <th>location</th>\n",
       "      <th>location_type</th>\n",
       "      <th>currency</th>\n",
       "      <th>currency_symbol</th>\n",
       "      <th>status</th>\n",
       "      <th>page_count</th>\n",
       "      <th>dish_count</th>\n",
       "    </tr>\n",
       "  </thead>\n",
       "  <tbody>\n",
       "    <tr>\n",
       "      <th>0</th>\n",
       "      <td>12463</td>\n",
       "      <td>NaN</td>\n",
       "      <td>HOTEL EASTMAN</td>\n",
       "      <td>BREAKFAST</td>\n",
       "      <td>COMMERCIAL</td>\n",
       "      <td>HOT SPRINGS, AR</td>\n",
       "      <td>CARD; 4.75X7.5;</td>\n",
       "      <td>EASTER;</td>\n",
       "      <td>NaN</td>\n",
       "      <td>1900-2822</td>\n",
       "      <td>NaN</td>\n",
       "      <td>NaN</td>\n",
       "      <td>1900-04-15</td>\n",
       "      <td>Hotel Eastman</td>\n",
       "      <td>NaN</td>\n",
       "      <td>NaN</td>\n",
       "      <td>NaN</td>\n",
       "      <td>complete</td>\n",
       "      <td>2</td>\n",
       "      <td>67</td>\n",
       "    </tr>\n",
       "    <tr>\n",
       "      <th>1</th>\n",
       "      <td>12464</td>\n",
       "      <td>NaN</td>\n",
       "      <td>REPUBLICAN HOUSE</td>\n",
       "      <td>[DINNER]</td>\n",
       "      <td>COMMERCIAL</td>\n",
       "      <td>MILWAUKEE, [WI];</td>\n",
       "      <td>CARD; ILLUS; COL; 7.0X9.0;</td>\n",
       "      <td>EASTER;</td>\n",
       "      <td>WEDGEWOOD BLUE CARD; WHITE EMBOSSED GREEK KEY ...</td>\n",
       "      <td>1900-2825</td>\n",
       "      <td>NaN</td>\n",
       "      <td>NaN</td>\n",
       "      <td>1900-04-15</td>\n",
       "      <td>Republican House</td>\n",
       "      <td>NaN</td>\n",
       "      <td>NaN</td>\n",
       "      <td>NaN</td>\n",
       "      <td>complete</td>\n",
       "      <td>2</td>\n",
       "      <td>34</td>\n",
       "    </tr>\n",
       "    <tr>\n",
       "      <th>2</th>\n",
       "      <td>12465</td>\n",
       "      <td>NaN</td>\n",
       "      <td>NORDDEUTSCHER LLOYD BREMEN</td>\n",
       "      <td>FRUHSTUCK/BREAKFAST;</td>\n",
       "      <td>COMMERCIAL</td>\n",
       "      <td>DAMPFER KAISER WILHELM DER GROSSE;</td>\n",
       "      <td>CARD; ILLU; COL; 5.5X8.0;</td>\n",
       "      <td>NaN</td>\n",
       "      <td>MENU IN GERMAN AND ENGLISH; ILLUS, STEAMSHIP A...</td>\n",
       "      <td>1900-2827</td>\n",
       "      <td>NaN</td>\n",
       "      <td>NaN</td>\n",
       "      <td>1900-04-16</td>\n",
       "      <td>Norddeutscher Lloyd Bremen</td>\n",
       "      <td>NaN</td>\n",
       "      <td>NaN</td>\n",
       "      <td>NaN</td>\n",
       "      <td>complete</td>\n",
       "      <td>2</td>\n",
       "      <td>84</td>\n",
       "    </tr>\n",
       "    <tr>\n",
       "      <th>3</th>\n",
       "      <td>12466</td>\n",
       "      <td>NaN</td>\n",
       "      <td>NORDDEUTSCHER LLOYD BREMEN</td>\n",
       "      <td>LUNCH;</td>\n",
       "      <td>COMMERCIAL</td>\n",
       "      <td>DAMPFER KAISER WILHELM DER GROSSE;</td>\n",
       "      <td>CARD; ILLU; COL; 5.5X8.0;</td>\n",
       "      <td>NaN</td>\n",
       "      <td>MENU IN GERMAN AND ENGLISH; ILLUS, HARBOR SCEN...</td>\n",
       "      <td>1900-2828</td>\n",
       "      <td>NaN</td>\n",
       "      <td>NaN</td>\n",
       "      <td>1900-04-16</td>\n",
       "      <td>Norddeutscher Lloyd Bremen</td>\n",
       "      <td>NaN</td>\n",
       "      <td>NaN</td>\n",
       "      <td>NaN</td>\n",
       "      <td>complete</td>\n",
       "      <td>2</td>\n",
       "      <td>63</td>\n",
       "    </tr>\n",
       "    <tr>\n",
       "      <th>4</th>\n",
       "      <td>12467</td>\n",
       "      <td>NaN</td>\n",
       "      <td>NORDDEUTSCHER LLOYD BREMEN</td>\n",
       "      <td>DINNER;</td>\n",
       "      <td>COMMERCIAL</td>\n",
       "      <td>DAMPFER KAISER WILHELM DER GROSSE;</td>\n",
       "      <td>FOLDER; ILLU; COL; 5.5X7.5;</td>\n",
       "      <td>NaN</td>\n",
       "      <td>MENU IN GERMAN AND ENGLISH; ILLUS, HARBOR SCEN...</td>\n",
       "      <td>1900-2829</td>\n",
       "      <td>NaN</td>\n",
       "      <td>NaN</td>\n",
       "      <td>1900-04-16</td>\n",
       "      <td>Norddeutscher Lloyd Bremen</td>\n",
       "      <td>NaN</td>\n",
       "      <td>NaN</td>\n",
       "      <td>NaN</td>\n",
       "      <td>complete</td>\n",
       "      <td>4</td>\n",
       "      <td>33</td>\n",
       "    </tr>\n",
       "  </tbody>\n",
       "</table>\n",
       "</div>"
      ],
      "text/plain": [
       "      id name                     sponsor                 event       venue  \\\n",
       "0  12463  NaN               HOTEL EASTMAN             BREAKFAST  COMMERCIAL   \n",
       "1  12464  NaN            REPUBLICAN HOUSE              [DINNER]  COMMERCIAL   \n",
       "2  12465  NaN  NORDDEUTSCHER LLOYD BREMEN  FRUHSTUCK/BREAKFAST;  COMMERCIAL   \n",
       "3  12466  NaN  NORDDEUTSCHER LLOYD BREMEN                LUNCH;  COMMERCIAL   \n",
       "4  12467  NaN  NORDDEUTSCHER LLOYD BREMEN               DINNER;  COMMERCIAL   \n",
       "\n",
       "                                place         physical_description occasion  \\\n",
       "0                     HOT SPRINGS, AR              CARD; 4.75X7.5;  EASTER;   \n",
       "1                    MILWAUKEE, [WI];   CARD; ILLUS; COL; 7.0X9.0;  EASTER;   \n",
       "2  DAMPFER KAISER WILHELM DER GROSSE;    CARD; ILLU; COL; 5.5X8.0;      NaN   \n",
       "3  DAMPFER KAISER WILHELM DER GROSSE;    CARD; ILLU; COL; 5.5X8.0;      NaN   \n",
       "4  DAMPFER KAISER WILHELM DER GROSSE;  FOLDER; ILLU; COL; 5.5X7.5;      NaN   \n",
       "\n",
       "                                               notes call_number  keywords  \\\n",
       "0                                                NaN   1900-2822       NaN   \n",
       "1  WEDGEWOOD BLUE CARD; WHITE EMBOSSED GREEK KEY ...   1900-2825       NaN   \n",
       "2  MENU IN GERMAN AND ENGLISH; ILLUS, STEAMSHIP A...   1900-2827       NaN   \n",
       "3  MENU IN GERMAN AND ENGLISH; ILLUS, HARBOR SCEN...   1900-2828       NaN   \n",
       "4  MENU IN GERMAN AND ENGLISH; ILLUS, HARBOR SCEN...   1900-2829       NaN   \n",
       "\n",
       "   language        date                    location  location_type currency  \\\n",
       "0       NaN  1900-04-15               Hotel Eastman            NaN      NaN   \n",
       "1       NaN  1900-04-15            Republican House            NaN      NaN   \n",
       "2       NaN  1900-04-16  Norddeutscher Lloyd Bremen            NaN      NaN   \n",
       "3       NaN  1900-04-16  Norddeutscher Lloyd Bremen            NaN      NaN   \n",
       "4       NaN  1900-04-16  Norddeutscher Lloyd Bremen            NaN      NaN   \n",
       "\n",
       "  currency_symbol    status  page_count  dish_count  \n",
       "0             NaN  complete           2          67  \n",
       "1             NaN  complete           2          34  \n",
       "2             NaN  complete           2          84  \n",
       "3             NaN  complete           2          63  \n",
       "4             NaN  complete           4          33  "
      ]
     },
     "execution_count": 166,
     "metadata": {},
     "output_type": "execute_result"
    }
   ],
   "source": [
    "menu_df.head()"
   ]
  },
  {
   "cell_type": "code",
   "execution_count": 167,
   "metadata": {
    "collapsed": false
   },
   "outputs": [
    {
     "data": {
      "text/html": [
       "<div>\n",
       "<table border=\"1\" class=\"dataframe\">\n",
       "  <thead>\n",
       "    <tr style=\"text-align: right;\">\n",
       "      <th></th>\n",
       "      <th>id</th>\n",
       "      <th>menu_id</th>\n",
       "      <th>page_number</th>\n",
       "      <th>image_id</th>\n",
       "      <th>full_height</th>\n",
       "      <th>full_width</th>\n",
       "      <th>uuid</th>\n",
       "    </tr>\n",
       "  </thead>\n",
       "  <tbody>\n",
       "    <tr>\n",
       "      <th>0</th>\n",
       "      <td>119</td>\n",
       "      <td>12460</td>\n",
       "      <td>1.0</td>\n",
       "      <td>1603595</td>\n",
       "      <td>7230.0</td>\n",
       "      <td>5428.0</td>\n",
       "      <td>510d47e4-2955-a3d9-e040-e00a18064a99</td>\n",
       "    </tr>\n",
       "    <tr>\n",
       "      <th>1</th>\n",
       "      <td>120</td>\n",
       "      <td>12460</td>\n",
       "      <td>2.0</td>\n",
       "      <td>1603596</td>\n",
       "      <td>5428.0</td>\n",
       "      <td>7230.0</td>\n",
       "      <td>510d47e4-2956-a3d9-e040-e00a18064a99</td>\n",
       "    </tr>\n",
       "    <tr>\n",
       "      <th>2</th>\n",
       "      <td>121</td>\n",
       "      <td>12460</td>\n",
       "      <td>3.0</td>\n",
       "      <td>1603597</td>\n",
       "      <td>7230.0</td>\n",
       "      <td>5428.0</td>\n",
       "      <td>510d47e4-2957-a3d9-e040-e00a18064a99</td>\n",
       "    </tr>\n",
       "    <tr>\n",
       "      <th>3</th>\n",
       "      <td>122</td>\n",
       "      <td>12460</td>\n",
       "      <td>4.0</td>\n",
       "      <td>1603598</td>\n",
       "      <td>7230.0</td>\n",
       "      <td>5428.0</td>\n",
       "      <td>510d47e4-2958-a3d9-e040-e00a18064a99</td>\n",
       "    </tr>\n",
       "    <tr>\n",
       "      <th>4</th>\n",
       "      <td>123</td>\n",
       "      <td>12461</td>\n",
       "      <td>1.0</td>\n",
       "      <td>1603591</td>\n",
       "      <td>7230.0</td>\n",
       "      <td>5428.0</td>\n",
       "      <td>510d47e4-2959-a3d9-e040-e00a18064a99</td>\n",
       "    </tr>\n",
       "  </tbody>\n",
       "</table>\n",
       "</div>"
      ],
      "text/plain": [
       "    id  menu_id  page_number image_id  full_height  full_width  \\\n",
       "0  119    12460          1.0  1603595       7230.0      5428.0   \n",
       "1  120    12460          2.0  1603596       5428.0      7230.0   \n",
       "2  121    12460          3.0  1603597       7230.0      5428.0   \n",
       "3  122    12460          4.0  1603598       7230.0      5428.0   \n",
       "4  123    12461          1.0  1603591       7230.0      5428.0   \n",
       "\n",
       "                                   uuid  \n",
       "0  510d47e4-2955-a3d9-e040-e00a18064a99  \n",
       "1  510d47e4-2956-a3d9-e040-e00a18064a99  \n",
       "2  510d47e4-2957-a3d9-e040-e00a18064a99  \n",
       "3  510d47e4-2958-a3d9-e040-e00a18064a99  \n",
       "4  510d47e4-2959-a3d9-e040-e00a18064a99  "
      ]
     },
     "execution_count": 167,
     "metadata": {},
     "output_type": "execute_result"
    }
   ],
   "source": [
    "mpage_df.head()"
   ]
  },
  {
   "cell_type": "code",
   "execution_count": 169,
   "metadata": {
    "collapsed": false
   },
   "outputs": [
    {
     "data": {
      "text/html": [
       "<div>\n",
       "<table border=\"1\" class=\"dataframe\">\n",
       "  <thead>\n",
       "    <tr style=\"text-align: right;\">\n",
       "      <th></th>\n",
       "      <th>id</th>\n",
       "      <th>menu_page_id</th>\n",
       "      <th>price</th>\n",
       "      <th>high_price</th>\n",
       "      <th>dish_id</th>\n",
       "      <th>created_at</th>\n",
       "      <th>updated_at</th>\n",
       "      <th>xpos</th>\n",
       "      <th>ypos</th>\n",
       "    </tr>\n",
       "  </thead>\n",
       "  <tbody>\n",
       "    <tr>\n",
       "      <th>0</th>\n",
       "      <td>1</td>\n",
       "      <td>1389</td>\n",
       "      <td>0.4</td>\n",
       "      <td>NaN</td>\n",
       "      <td>1.0</td>\n",
       "      <td>2011-03-28 15:00:44 UTC</td>\n",
       "      <td>2011-04-19 04:33:15 UTC</td>\n",
       "      <td>0.111429</td>\n",
       "      <td>0.254735</td>\n",
       "    </tr>\n",
       "    <tr>\n",
       "      <th>1</th>\n",
       "      <td>2</td>\n",
       "      <td>1389</td>\n",
       "      <td>0.6</td>\n",
       "      <td>NaN</td>\n",
       "      <td>2.0</td>\n",
       "      <td>2011-03-28 15:01:13 UTC</td>\n",
       "      <td>2011-04-19 15:00:54 UTC</td>\n",
       "      <td>0.438571</td>\n",
       "      <td>0.254735</td>\n",
       "    </tr>\n",
       "    <tr>\n",
       "      <th>2</th>\n",
       "      <td>3</td>\n",
       "      <td>1389</td>\n",
       "      <td>0.4</td>\n",
       "      <td>NaN</td>\n",
       "      <td>3.0</td>\n",
       "      <td>2011-03-28 15:01:40 UTC</td>\n",
       "      <td>2011-04-19 19:10:05 UTC</td>\n",
       "      <td>0.140000</td>\n",
       "      <td>0.261922</td>\n",
       "    </tr>\n",
       "    <tr>\n",
       "      <th>3</th>\n",
       "      <td>4</td>\n",
       "      <td>1389</td>\n",
       "      <td>0.5</td>\n",
       "      <td>NaN</td>\n",
       "      <td>4.0</td>\n",
       "      <td>2011-03-28 15:01:51 UTC</td>\n",
       "      <td>2011-04-19 19:07:01 UTC</td>\n",
       "      <td>0.377143</td>\n",
       "      <td>0.262720</td>\n",
       "    </tr>\n",
       "    <tr>\n",
       "      <th>4</th>\n",
       "      <td>5</td>\n",
       "      <td>3079</td>\n",
       "      <td>0.5</td>\n",
       "      <td>1.0</td>\n",
       "      <td>5.0</td>\n",
       "      <td>2011-03-28 15:21:26 UTC</td>\n",
       "      <td>2011-04-13 15:25:27 UTC</td>\n",
       "      <td>0.105714</td>\n",
       "      <td>0.313178</td>\n",
       "    </tr>\n",
       "  </tbody>\n",
       "</table>\n",
       "</div>"
      ],
      "text/plain": [
       "   id  menu_page_id  price  high_price  dish_id               created_at  \\\n",
       "0   1          1389    0.4         NaN      1.0  2011-03-28 15:00:44 UTC   \n",
       "1   2          1389    0.6         NaN      2.0  2011-03-28 15:01:13 UTC   \n",
       "2   3          1389    0.4         NaN      3.0  2011-03-28 15:01:40 UTC   \n",
       "3   4          1389    0.5         NaN      4.0  2011-03-28 15:01:51 UTC   \n",
       "4   5          3079    0.5         1.0      5.0  2011-03-28 15:21:26 UTC   \n",
       "\n",
       "                updated_at      xpos      ypos  \n",
       "0  2011-04-19 04:33:15 UTC  0.111429  0.254735  \n",
       "1  2011-04-19 15:00:54 UTC  0.438571  0.254735  \n",
       "2  2011-04-19 19:10:05 UTC  0.140000  0.261922  \n",
       "3  2011-04-19 19:07:01 UTC  0.377143  0.262720  \n",
       "4  2011-04-13 15:25:27 UTC  0.105714  0.313178  "
      ]
     },
     "execution_count": 169,
     "metadata": {},
     "output_type": "execute_result"
    }
   ],
   "source": [
    "mitem_df.head()"
   ]
  },
  {
   "cell_type": "code",
   "execution_count": 170,
   "metadata": {
    "collapsed": false
   },
   "outputs": [
    {
     "data": {
      "text/plain": [
       "count    886524.000000\n",
       "mean         12.836513\n",
       "std         499.620387\n",
       "min           0.000000\n",
       "25%           0.250000\n",
       "50%           0.400000\n",
       "75%           1.000000\n",
       "max      180000.000000\n",
       "Name: price, dtype: float64"
      ]
     },
     "execution_count": 170,
     "metadata": {},
     "output_type": "execute_result"
    }
   ],
   "source": [
    "mitem_df.price.describe()"
   ]
  },
  {
   "cell_type": "markdown",
   "metadata": {},
   "source": [
    "### Number of dishes on the menu over time"
   ]
  },
  {
   "cell_type": "raw",
   "metadata": {},
   "source": [
    "We'll eliminate rows with missing dates"
   ]
  },
  {
   "cell_type": "code",
   "execution_count": 101,
   "metadata": {
    "collapsed": true
   },
   "outputs": [],
   "source": [
    "menu_df_sub = menu_df.dropna(subset=['date'])"
   ]
  },
  {
   "cell_type": "code",
   "execution_count": 102,
   "metadata": {
    "collapsed": false
   },
   "outputs": [
    {
     "name": "stdout",
     "output_type": "stream",
     "text": [
      "Proportion of non-missing dates: 0.966600170989\n"
     ]
    }
   ],
   "source": [
    "value=str(float(len(menu_df_sub.date))/len(menu_df.date))\n",
    "print(\"Proportion of non-missing dates: {0}\".format(value))"
   ]
  },
  {
   "cell_type": "raw",
   "metadata": {},
   "source": [
    "But we still have some funky date values"
   ]
  },
  {
   "cell_type": "code",
   "execution_count": 103,
   "metadata": {
    "collapsed": false
   },
   "outputs": [
    {
     "name": "stdout",
     "output_type": "stream",
     "text": [
      "Minimum date: 0001-01-01\n",
      "Maximum date: 2928-03-26\n"
     ]
    }
   ],
   "source": [
    "print(\"Minimum date: {0}\".format(str(min(menu_df_sub.date))))\n",
    "print(\"Maximum date: {0}\".format(str(max(menu_df_sub.date))))"
   ]
  },
  {
   "cell_type": "code",
   "execution_count": 104,
   "metadata": {
    "collapsed": true
   },
   "outputs": [],
   "source": [
    "menu_df_sub2 = menu_df_sub[menu_df_sub.date.between('1840-01-01','2016-11-30')]"
   ]
  },
  {
   "cell_type": "code",
   "execution_count": 105,
   "metadata": {
    "collapsed": false
   },
   "outputs": [
    {
     "name": "stdout",
     "output_type": "stream",
     "text": [
      "Proportion of subset with 'reasonable' dates: 0.999705171295\n"
     ]
    }
   ],
   "source": [
    "value=str(float(len(menu_df_sub2.date))/len(menu_df_sub.date))\n",
    "print(\"Proportion of subset with 'reasonable' dates: {0}\".format(value))"
   ]
  },
  {
   "cell_type": "raw",
   "metadata": {},
   "source": [
    "Now, we need to convert the column to datetime and extract year (note we also could have pulled out the first 4 digits of the date variable as a string... but oh well! We'll aso create  a decade variable"
   ]
  },
  {
   "cell_type": "code",
   "execution_count": 115,
   "metadata": {
    "collapsed": false
   },
   "outputs": [],
   "source": [
    "menu_df_sub2.date = pd.to_datetime(menu_df_sub2.date)\n",
    "menu_df_sub2.year=menu_df_sub2.date.dt.year"
   ]
  },
  {
   "cell_type": "raw",
   "metadata": {},
   "source": [
    "Ensure all is legit with our new variable."
   ]
  },
  {
   "cell_type": "code",
   "execution_count": 157,
   "metadata": {
    "collapsed": false
   },
   "outputs": [
    {
     "data": {
      "text/html": [
       "<div>\n",
       "<table border=\"1\" class=\"dataframe\">\n",
       "  <thead>\n",
       "    <tr style=\"text-align: right;\">\n",
       "      <th></th>\n",
       "      <th>date</th>\n",
       "      <th>year</th>\n",
       "    </tr>\n",
       "  </thead>\n",
       "  <tbody>\n",
       "    <tr>\n",
       "      <th>17540</th>\n",
       "      <td>1913-09-24</td>\n",
       "      <td>1913</td>\n",
       "    </tr>\n",
       "    <tr>\n",
       "      <th>17541</th>\n",
       "      <td>1913-09-24</td>\n",
       "      <td>1913</td>\n",
       "    </tr>\n",
       "    <tr>\n",
       "      <th>17542</th>\n",
       "      <td>1913-09-24</td>\n",
       "      <td>1913</td>\n",
       "    </tr>\n",
       "    <tr>\n",
       "      <th>17543</th>\n",
       "      <td>1913-09-24</td>\n",
       "      <td>1913</td>\n",
       "    </tr>\n",
       "    <tr>\n",
       "      <th>17544</th>\n",
       "      <td>1920-12-25</td>\n",
       "      <td>1920</td>\n",
       "    </tr>\n",
       "  </tbody>\n",
       "</table>\n",
       "</div>"
      ],
      "text/plain": [
       "            date  year\n",
       "17540 1913-09-24  1913\n",
       "17541 1913-09-24  1913\n",
       "17542 1913-09-24  1913\n",
       "17543 1913-09-24  1913\n",
       "17544 1920-12-25  1920"
      ]
     },
     "execution_count": 157,
     "metadata": {},
     "output_type": "execute_result"
    }
   ],
   "source": [
    "menu_df_sub2[['date','year']].tail()"
   ]
  },
  {
   "cell_type": "raw",
   "metadata": {},
   "source": [
    "How many observations do we have per year?"
   ]
  },
  {
   "cell_type": "code",
   "execution_count": 158,
   "metadata": {
    "collapsed": false
   },
   "outputs": [
    {
     "data": {
      "text/plain": [
       "<matplotlib.axes._subplots.AxesSubplot at 0x11b88ae50>"
      ]
     },
     "execution_count": 158,
     "metadata": {},
     "output_type": "execute_result"
    },
    {
     "data": {
      "image/png": "[encoded data removed]",
      "text/plain": [
       "<matplotlib.figure.Figure at 0x117a83f50>"
      ]
     },
     "metadata": {},
     "output_type": "display_data"
    }
   ],
   "source": [
    "menu_df_sub2[['year', 'dish_count']].groupby(['year'], as_index=False).agg(len).plot(x='year', y='dish_count')"
   ]
  },
  {
   "cell_type": "raw",
   "metadata": {},
   "source": [
    "Let's create a decade column "
   ]
  },
  {
   "cell_type": "code",
   "execution_count": 159,
   "metadata": {
    "collapsed": false
   },
   "outputs": [
    {
     "data": {
      "text/html": [
       "<div>\n",
       "<table border=\"1\" class=\"dataframe\">\n",
       "  <thead>\n",
       "    <tr style=\"text-align: right;\">\n",
       "      <th></th>\n",
       "      <th>date</th>\n",
       "      <th>year</th>\n",
       "      <th>decade</th>\n",
       "    </tr>\n",
       "  </thead>\n",
       "  <tbody>\n",
       "    <tr>\n",
       "      <th>17540</th>\n",
       "      <td>1913-09-24</td>\n",
       "      <td>1913</td>\n",
       "      <td>1910</td>\n",
       "    </tr>\n",
       "    <tr>\n",
       "      <th>17541</th>\n",
       "      <td>1913-09-24</td>\n",
       "      <td>1913</td>\n",
       "      <td>1910</td>\n",
       "    </tr>\n",
       "    <tr>\n",
       "      <th>17542</th>\n",
       "      <td>1913-09-24</td>\n",
       "      <td>1913</td>\n",
       "      <td>1910</td>\n",
       "    </tr>\n",
       "    <tr>\n",
       "      <th>17543</th>\n",
       "      <td>1913-09-24</td>\n",
       "      <td>1913</td>\n",
       "      <td>1910</td>\n",
       "    </tr>\n",
       "    <tr>\n",
       "      <th>17544</th>\n",
       "      <td>1920-12-25</td>\n",
       "      <td>1920</td>\n",
       "      <td>1920</td>\n",
       "    </tr>\n",
       "  </tbody>\n",
       "</table>\n",
       "</div>"
      ],
      "text/plain": [
       "            date  year  decade\n",
       "17540 1913-09-24  1913    1910\n",
       "17541 1913-09-24  1913    1910\n",
       "17542 1913-09-24  1913    1910\n",
       "17543 1913-09-24  1913    1910\n",
       "17544 1920-12-25  1920    1920"
      ]
     },
     "execution_count": 159,
     "metadata": {},
     "output_type": "execute_result"
    }
   ],
   "source": [
    "menu_df_sub2.decade=(menu_df_sub2.year//10)*10\n",
    "menu_df_sub2[['date','year','decade']].tail()"
   ]
  },
  {
   "cell_type": "code",
   "execution_count": 160,
   "metadata": {
    "collapsed": false
   },
   "outputs": [
    {
     "data": {
      "text/plain": [
       "<matplotlib.axes._subplots.AxesSubplot at 0x114ffa490>"
      ]
     },
     "execution_count": 160,
     "metadata": {},
     "output_type": "execute_result"
    },
    {
     "data": {
      "image/png": "[encoded data removed]",
      "text/plain": [
       "<matplotlib.figure.Figure at 0x11f69ca10>"
      ]
     },
     "metadata": {},
     "output_type": "display_data"
    }
   ],
   "source": [
    "menu_df_sub2[['decade', 'dish_count']].groupby(['decade'], as_index=False).agg(len).plot(x='decade', y='dish_count')"
   ]
  },
  {
   "cell_type": "code",
   "execution_count": 165,
   "metadata": {
    "collapsed": false
   },
   "outputs": [
    {
     "data": {
      "text/plain": [
       "<matplotlib.axes._subplots.AxesSubplot at 0x1207e83d0>"
      ]
     },
     "execution_count": 165,
     "metadata": {},
     "output_type": "execute_result"
    },
    {
     "data": {
      "image/png": "[encoded data removed]",
      "text/plain": [
       "<matplotlib.figure.Figure at 0x120805890>"
      ]
     },
     "metadata": {},
     "output_type": "display_data"
    }
   ],
   "source": [
    "menu_df_sub2.boxplot(column='dish_count', by='decade', showfliers=0)"
   ]
  },
  {
   "cell_type": "markdown",
   "metadata": {},
   "source": [
    "### Average price over time"
   ]
  },
  {
   "cell_type": "code",
   "execution_count": 171,
   "metadata": {
    "collapsed": false
   },
   "outputs": [
    {
     "data": {
      "text/plain": [
       "count    886524.000000\n",
       "mean         12.836513\n",
       "std         499.620387\n",
       "min           0.000000\n",
       "25%           0.250000\n",
       "50%           0.400000\n",
       "75%           1.000000\n",
       "max      180000.000000\n",
       "Name: price, dtype: float64"
      ]
     },
     "execution_count": 171,
     "metadata": {},
     "output_type": "execute_result"
    }
   ],
   "source": [
    "mitem_df.price.describe()"
   ]
  },
  {
   "cell_type": "raw",
   "metadata": {},
   "source": [
    "Need to with menu page and menu df's"
   ]
  },
  {
   "cell_type": "code",
   "execution_count": 183,
   "metadata": {
    "collapsed": false
   },
   "outputs": [],
   "source": [
    "mmerge_df = pd.merge(pd.merge(mitem_df,mpage_df,left_on='menu_page_id',right_on='id'),\\\n",
    "                     menu_df_sub2,left_on='menu_id',right_on='id' )"
   ]
  },
  {
   "cell_type": "code",
   "execution_count": 184,
   "metadata": {
    "collapsed": false
   },
   "outputs": [
    {
     "data": {
      "text/plain": [
       "Index([u'id_x', u'menu_page_id', u'price', u'high_price', u'dish_id',\n",
       "       u'created_at', u'updated_at', u'xpos', u'ypos', u'id_y', u'menu_id',\n",
       "       u'page_number', u'image_id', u'full_height', u'full_width', u'uuid',\n",
       "       u'id', u'name', u'sponsor', u'event', u'venue', u'place',\n",
       "       u'physical_description', u'occasion', u'notes', u'call_number',\n",
       "       u'keywords', u'language', u'date', u'location', u'location_type',\n",
       "       u'currency', u'currency_symbol', u'status', u'page_count',\n",
       "       u'dish_count', u'year', u'decade'],\n",
       "      dtype='object')"
      ]
     },
     "execution_count": 184,
     "metadata": {},
     "output_type": "execute_result"
    }
   ],
   "source": [
    "mmerge_df.columns"
   ]
  },
  {
   "cell_type": "code",
   "execution_count": 190,
   "metadata": {
    "collapsed": false
   },
   "outputs": [
    {
     "data": {
      "text/html": [
       "<div>\n",
       "<table border=\"1\" class=\"dataframe\">\n",
       "  <thead>\n",
       "    <tr style=\"text-align: right;\">\n",
       "      <th></th>\n",
       "      <th>date</th>\n",
       "      <th>menu_id</th>\n",
       "      <th>price</th>\n",
       "      <th>year</th>\n",
       "      <th>decade</th>\n",
       "    </tr>\n",
       "  </thead>\n",
       "  <tbody>\n",
       "    <tr>\n",
       "      <th>0</th>\n",
       "      <td>1900-04-09</td>\n",
       "      <td>12882</td>\n",
       "      <td>0.4</td>\n",
       "      <td>1900</td>\n",
       "      <td>1900</td>\n",
       "    </tr>\n",
       "    <tr>\n",
       "      <th>1</th>\n",
       "      <td>1900-04-09</td>\n",
       "      <td>12882</td>\n",
       "      <td>0.6</td>\n",
       "      <td>1900</td>\n",
       "      <td>1900</td>\n",
       "    </tr>\n",
       "    <tr>\n",
       "      <th>2</th>\n",
       "      <td>1900-04-09</td>\n",
       "      <td>12882</td>\n",
       "      <td>0.4</td>\n",
       "      <td>1900</td>\n",
       "      <td>1900</td>\n",
       "    </tr>\n",
       "    <tr>\n",
       "      <th>3</th>\n",
       "      <td>1900-04-09</td>\n",
       "      <td>12882</td>\n",
       "      <td>0.5</td>\n",
       "      <td>1900</td>\n",
       "      <td>1900</td>\n",
       "    </tr>\n",
       "    <tr>\n",
       "      <th>4</th>\n",
       "      <td>1900-04-09</td>\n",
       "      <td>12882</td>\n",
       "      <td>0.1</td>\n",
       "      <td>1900</td>\n",
       "      <td>1900</td>\n",
       "    </tr>\n",
       "  </tbody>\n",
       "</table>\n",
       "</div>"
      ],
      "text/plain": [
       "        date  menu_id  price  year  decade\n",
       "0 1900-04-09    12882    0.4  1900    1900\n",
       "1 1900-04-09    12882    0.6  1900    1900\n",
       "2 1900-04-09    12882    0.4  1900    1900\n",
       "3 1900-04-09    12882    0.5  1900    1900\n",
       "4 1900-04-09    12882    0.1  1900    1900"
      ]
     },
     "execution_count": 190,
     "metadata": {},
     "output_type": "execute_result"
    }
   ],
   "source": [
    "mmerge_sub = mmerge_df[[u'date',u'menu_id', u'price']]\n",
    "mmerge_sub.date = pd.to_datetime(mmerge_sub.date)\n",
    "mmerge_sub.loc[:,'year'] = mmerge_sub.date.dt.year\n",
    "mmerge_sub.loc[:,'decade'] = (mmerge_sub.year//10)*10\n",
    "mmerge_sub.head()"
   ]
  },
  {
   "cell_type": "raw",
   "metadata": {},
   "source": [
    "Average price by menu, we need to remove NA's first\n"
   ]
  },
  {
   "cell_type": "code",
   "execution_count": 199,
   "metadata": {
    "collapsed": false
   },
   "outputs": [
    {
     "name": "stdout",
     "output_type": "stream",
     "text": [
      "(1271684, 5)\n",
      "(837558, 5)\n"
     ]
    }
   ],
   "source": [
    "print mmerge_sub.shape\n",
    "mmerge_sub2 = mmerge_sub.dropna()\n",
    "print mmerge_sub2.shape"
   ]
  },
  {
   "cell_type": "code",
   "execution_count": 202,
   "metadata": {
    "collapsed": false
   },
   "outputs": [
    {
     "data": {
      "text/html": [
       "<div>\n",
       "<table border=\"1\" class=\"dataframe\">\n",
       "  <thead>\n",
       "    <tr style=\"text-align: right;\">\n",
       "      <th></th>\n",
       "      <th>menu_id</th>\n",
       "      <th>year</th>\n",
       "      <th>decade</th>\n",
       "      <th>price</th>\n",
       "    </tr>\n",
       "  </thead>\n",
       "  <tbody>\n",
       "    <tr>\n",
       "      <th>0</th>\n",
       "      <td>12469</td>\n",
       "      <td>1900</td>\n",
       "      <td>1900</td>\n",
       "      <td>1.079371</td>\n",
       "    </tr>\n",
       "    <tr>\n",
       "      <th>1</th>\n",
       "      <td>12474</td>\n",
       "      <td>1900</td>\n",
       "      <td>1900</td>\n",
       "      <td>2.530556</td>\n",
       "    </tr>\n",
       "    <tr>\n",
       "      <th>2</th>\n",
       "      <td>12475</td>\n",
       "      <td>1900</td>\n",
       "      <td>1900</td>\n",
       "      <td>0.663143</td>\n",
       "    </tr>\n",
       "    <tr>\n",
       "      <th>3</th>\n",
       "      <td>12483</td>\n",
       "      <td>1900</td>\n",
       "      <td>1900</td>\n",
       "      <td>0.317188</td>\n",
       "    </tr>\n",
       "    <tr>\n",
       "      <th>4</th>\n",
       "      <td>12504</td>\n",
       "      <td>1900</td>\n",
       "      <td>1900</td>\n",
       "      <td>0.431268</td>\n",
       "    </tr>\n",
       "  </tbody>\n",
       "</table>\n",
       "</div>"
      ],
      "text/plain": [
       "   menu_id  year  decade     price\n",
       "0    12469  1900    1900  1.079371\n",
       "1    12474  1900    1900  2.530556\n",
       "2    12475  1900    1900  0.663143\n",
       "3    12483  1900    1900  0.317188\n",
       "4    12504  1900    1900  0.431268"
      ]
     },
     "execution_count": 202,
     "metadata": {},
     "output_type": "execute_result"
    }
   ],
   "source": [
    "mmerge_agg = mmerge_sub2[[u'menu_id', u'price', 'year', 'decade']].groupby(['menu_id','year', 'decade'], as_index=False).mean()\n",
    "mmerge_agg.head()"
   ]
  },
  {
   "cell_type": "code",
   "execution_count": 203,
   "metadata": {
    "collapsed": false
   },
   "outputs": [
    {
     "data": {
      "text/plain": [
       "<matplotlib.axes._subplots.AxesSubplot at 0x114814510>"
      ]
     },
     "execution_count": 203,
     "metadata": {},
     "output_type": "execute_result"
    },
    {
     "data": {
      "image/png": "[encoded data removed]",
      "text/plain": [
       "<matplotlib.figure.Figure at 0x114e564d0>"
      ]
     },
     "metadata": {},
     "output_type": "display_data"
    }
   ],
   "source": [
    "mmerge_agg.boxplot(column='price', by='decade', showfliers=0)"
   ]
  },
  {
   "cell_type": "code",
   "execution_count": null,
   "metadata": {
    "collapsed": true
   },
   "outputs": [],
   "source": []
  }
 ],
 "metadata": {
  "kernelspec": {
   "display_name": "Python 2",
   "language": "python",
   "name": "python2"
  },
  "language_info": {
   "codemirror_mode": {
    "name": "ipython",
    "version": 2
   },
   "file_extension": ".py",
   "mimetype": "text/x-python",
   "name": "python",
   "nbconvert_exporter": "python",
   "pygments_lexer": "ipython2",
   "version": "2.7.13"
  }
 },
 "nbformat": 4,
 "nbformat_minor": 2
}
